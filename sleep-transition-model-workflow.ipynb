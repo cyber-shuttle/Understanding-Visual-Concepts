{
 "cells": [
  {
   "cell_type": "markdown",
   "metadata": {},
   "source": [
    "# Sleep Stage Transition Analysis\n",
    "\n",
    "This Jupyter notebook is designed to analyze the simulation output of the thalamocortical network model described in the paper \"Cellular and neurochemical basis of sleep stages in the thalamocortical network\" by Krishnan et al. The notebook guides you through the process of setting up the environment, running the simulation, loading the output data, and performing various analyses to understand the transitions between different sleep stages."
   ]
  },
  {
   "cell_type": "markdown",
   "metadata": {},
   "source": [
    "## Setup and Installation\n",
    "\n",
    "You can use the pre-installed code on Cybershuttle or you can install the C++ code locally. The simulation code is implemented in C++ and uses OpenMP for parallelism. You will need a C++ compiler and OpenMP support.\n",
    "\n",
    "## Cloning the Repository\n",
    "\n",
    "Clone the repository to your local machine using the following command:\n",
    "```bash\n",
    "git clone https://github.com/bazhlab-ucsd/sleep-stage-transition.git\n",
    "```\n",
    "\n",
    "## Building the Project\n",
    "\n",
    "Navigate to the project directory and compile the code:\n",
    "```bash\n",
    "cd sleep-stage-transition\n",
    "make network\n",
    "make run\n",
    "```"
   ]
  },
  {
   "cell_type": "markdown",
   "metadata": {},
   "source": [
    "\n",
    "## Running Simulations\n",
    "\n",
    "The simulation parameters can be modified in the `params.txt` file. Adjust this file to set different levels of neuromodulators and other parameters. Run the simulation with:\n",
    "```bash\n",
    "make run\n",
    "```\n",
    "# Alternatively you can run the code using Cybershuttle"
   ]
  },
  {
   "cell_type": "markdown",
   "metadata": {},
   "source": [
    "## Loading and Processing Output Data\n",
    "\n",
    "After running the simulation, the output files will be saved in the `out` directory. These files contain the membrane voltage and other relevant data of different neuron types.\n",
    "\n",
    "# For simulations ran through Cybershuttle, the Cybershuttle local agent can transparently fetch these output files"
   ]
  },
  {
   "cell_type": "markdown",
   "metadata": {},
   "source": []
  }
 ],
 "metadata": {
  "kernelspec": {
   "display_name": "Python 3",
   "language": "python",
   "name": "python3"
  },
  "language_info": {
   "name": "python",
   "version": "3.12.4"
  }
 },
 "nbformat": 4,
 "nbformat_minor": 2
}
