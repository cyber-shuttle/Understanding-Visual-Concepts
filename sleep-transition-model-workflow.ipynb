{
 "cells": [
  {
   "cell_type": "markdown",
   "metadata": {},
   "source": [
    "# Sleep Stage Transition Analysis\n",
    "\n",
    "This Jupyter notebook is designed to analyze the simulation output of the thalamocortical network model described in the paper \"Cellular and neurochemical basis of sleep stages in the thalamocortical network\" by Krishnan et al. The notebook guides you through the process of setting up the environment, running the simulation, loading the output data, and performing various analyses to understand the transitions between different sleep stages."
   ]
  },
  {
   "cell_type": "markdown",
   "metadata": {},
   "source": [
    "## Setup and Installation\n",
    "\n",
    "You can use the pre-installed code on Cybershuttle or you can install the C++ code locally. The simulation code is implemented in C++ and uses OpenMP for parallelism. You will need a C++ compiler and OpenMP support.\n",
    "\n",
    "## Cloning the Repository\n",
    "\n",
    "Clone the repository to your local machine using the following command:\n",
    "```bash\n",
    "git clone https://github.com/bazhlab-ucsd/sleep-stage-transition.git\n",
    "```\n",
    "\n",
    "## Building the Project\n",
    "\n",
    "Navigate to the project directory and compile the code:\n",
    "```bash\n",
    "cd sleep-stage-transition\n",
    "make network\n",
    "make run\n",
    "```"
   ]
  },
  {
   "cell_type": "markdown",
   "metadata": {},
   "source": [
    "\n",
    "## Running Simulations\n",
    "\n",
    "The simulation parameters can be modified in the `params.txt` file. Adjust this file to set different levels of neuromodulators and other parameters. Run the simulation with:\n",
    "```bash\n",
    "make run\n",
    "```\n",
    "# Alternatively you can run the code using Cybershuttle"
   ]
  },
  {
   "cell_type": "markdown",
   "metadata": {},
   "source": [
    "## Loading and Processing Output Data\n",
    "\n",
    "After running the simulation, the output files will be saved in the `out` directory. These files contain the membrane voltage and other relevant data of different neuron types.\n",
    "\n",
    "# For simulations ran through Cybershuttle, the Cybershuttle local agent can transparently fetch these output files"
   ]
  },
  {
   "cell_type": "code",
   "execution_count": 1,
   "metadata": {},
   "outputs": [],
   "source": [
    "import numpy as np\n",
    "import matplotlib.pylab as plt"
   ]
  },
  {
   "cell_type": "markdown",
   "metadata": {},
   "source": [
    "### Functions\n",
    "\n",
    "#### Simple Plot Function\n",
    "This function visualizes the simulation output of the thalamocortical network model. It creates image plots of the membrane potentials of cortical, thalamic, and reticular neurons, as well as time-series plots of specific neurons' membrane potentials."
   ]
  },
  {
   "cell_type": "code",
   "execution_count": 2,
   "metadata": {},
   "outputs": [],
   "source": [
    "def gen_cx_tc_re_imageplot(spath):\n",
    "    cx = np.loadtxt(spath + 'time_cx')\n",
    "    tc = np.loadtxt(spath + 'time_tc')\n",
    "    re = np.loadtxt(spath + 'time_re')\n",
    "\n",
    "    plt.figure(figsize=(10,5))\n",
    "    plt.subplot(3,2,1)\n",
    "    plt.imshow(cx[:,1:-1].T, aspect='auto',vmin=-80,vmax=-50)\n",
    "\n",
    "    plt.subplot(3,2,3)\n",
    "    plt.imshow(tc[:,1:-1].T, aspect='auto',vmin=-80,vmax=-50)\n",
    "\n",
    "    plt.subplot(3,2,5)\n",
    "    plt.imshow(re[:,1:-1].T, aspect='auto',vmin=-80,vmax=-50)\n",
    "\n",
    "    plt.subplot(3,2,2)\n",
    "    plt.plot(cx[:,200])\n",
    "\n",
    "    plt.subplot(3,2,4)\n",
    "    plt.plot(tc[:,50])\n",
    "\n",
    "    plt.subplot(3,2,6)\n",
    "    plt.plot(re[:,50])\n",
    "    return cx,tc,re"
   ]
  },
  {
   "cell_type": "markdown",
   "metadata": {},
   "source": [
    "### Compute Mean as Local Field Potential (LFP)\n",
    "This function provides a way to compute and visualize the LFP from the membrane potentials of cortical neurons, giving insights into the overall electrical activity in the simulated brain region."
   ]
  },
  {
   "cell_type": "code",
   "execution_count": 4,
   "metadata": {},
   "outputs": [],
   "source": [
    "def compute_mean_as_lfp(time_cx):\n",
    "  # Compute mean from index 1 to -1, assuming 0 is cell number and last is predefined\n",
    "  return np.mean(time_cx[:,1:-1])"
   ]
  },
  {
   "cell_type": "markdown",
   "metadata": {},
   "source": [
    "#### Compute LFP\n",
    "The function fftc performs a Fast Fourier Transform (FFT) on the LFP data to analyze the frequency components of the signal. This function provides a method to analyze the frequency components of the LFP signal, which can reveal insights into the underlying neuronal dynamics and oscillatory activity."
   ]
  },
  {
   "cell_type": "code",
   "execution_count": 9,
   "metadata": {},
   "outputs": [
    {
     "name": "stdout",
     "output_type": "stream",
     "text": [
      "Requirement already satisfied: scipy in /opt/homebrew/Caskroom/miniconda/base/lib/python3.9/site-packages (1.13.1)\n",
      "Requirement already satisfied: numpy<2.3,>=1.22.4 in /opt/homebrew/Caskroom/miniconda/base/lib/python3.9/site-packages (from scipy) (1.26.4)\n"
     ]
    },
    {
     "ename": "ModuleNotFoundError",
     "evalue": "No module named 'scipy'",
     "output_type": "error",
     "traceback": [
      "\u001b[0;31m---------------------------------------------------------------------------\u001b[0m",
      "\u001b[0;31mModuleNotFoundError\u001b[0m                       Traceback (most recent call last)",
      "Cell \u001b[0;32mIn [9], line 2\u001b[0m\n\u001b[1;32m      1\u001b[0m get_ipython()\u001b[38;5;241m.\u001b[39msystem(\u001b[38;5;124m'\u001b[39m\u001b[38;5;124m pip install scipy\u001b[39m\u001b[38;5;124m'\u001b[39m)\n\u001b[0;32m----> 2\u001b[0m \u001b[38;5;28;01mimport\u001b[39;00m \u001b[38;5;21;01mscipy\u001b[39;00m\n\u001b[1;32m      4\u001b[0m \u001b[38;5;28;01mfrom\u001b[39;00m \u001b[38;5;21;01mscipy\u001b[39;00m \u001b[38;5;28;01mimport\u001b[39;00m signal\n\u001b[1;32m      6\u001b[0m \u001b[38;5;28;01mdef\u001b[39;00m \u001b[38;5;21mfftc\u001b[39m(data, fs, pad, h_freq ):\n\u001b[1;32m      7\u001b[0m     \u001b[38;5;66;03m# Usage : fft_corrected(data, fs, win, pad )\u001b[39;00m\n\u001b[1;32m      8\u001b[0m     \u001b[38;5;66;03m#         data  --- np array\u001b[39;00m\n\u001b[0;32m   (...)\u001b[0m\n\u001b[1;32m     13\u001b[0m     \u001b[38;5;66;03m# if win.shape[0]>0:\u001b[39;00m\n\u001b[1;32m     14\u001b[0m     \u001b[38;5;66;03m#     data=np.multiply(data,win)\u001b[39;00m\n",
      "\u001b[0;31mModuleNotFoundError\u001b[0m: No module named 'scipy'"
     ]
    }
   ],
   "source": [
    "! pip install scipy\n",
    "import scipy\n",
    "\n",
    "from scipy import signal\n",
    "\n",
    "def fftc(data, fs, pad, h_freq ):\n",
    "    # Usage : fft_corrected(data, fs, win, pad )\n",
    "    #         data  --- np array\n",
    "    #         fs  --- sampling rate\n",
    "    #         pad  --- padding\n",
    "    # need to load numpy as np\n",
    "\n",
    "    # if win.shape[0]>0:\n",
    "    #     data=np.multiply(data,win)\n",
    "\n",
    "    pad = data.shape[0]\n",
    "    fft_out=np.fft.fft(data,n=pad)\n",
    "\n",
    "    # frequency=np.multiply(np.arange(0,pad/2),fs/pad) \n",
    "\n",
    "    frequency=np.linspace(0.0, 1.0/(2.0/fs), pad/2)\n",
    "    # frequency=np.fft.fftfreq(data.shape[-1])\n",
    "\n",
    "    power=np.absolute(fft_out)\n",
    "    phase=np.angle(fft_out);\n",
    "\n",
    "    h_freq_bin = np.where(frequency<h_freq)    \n",
    "    power=power[h_freq_bin]/np.shape(data)[0];\n",
    "    phase=phase[h_freq_bin];\n",
    "    frequency=frequency[h_freq_bin];\n",
    "\n",
    "    return power, phase, frequency"
   ]
  }
 ],
 "metadata": {
  "kernelspec": {
   "display_name": "Python 3",
   "language": "python",
   "name": "python3"
  },
  "language_info": {
   "name": "python",
   "version": "3.12.4"
  }
 },
 "nbformat": 4,
 "nbformat_minor": 4
}
