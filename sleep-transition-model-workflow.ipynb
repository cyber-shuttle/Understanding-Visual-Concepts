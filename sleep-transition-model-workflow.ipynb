{
 "cells": [
  {
   "cell_type": "markdown",
   "metadata": {},
   "source": [
    "# Sleep Stage Transition Analysis\n",
    "\n",
    "This Jupyter notebook will run simulations of the thalamocortical network model described in the paper \"Cellular and neurochemical basis of sleep stages in the thalamocortical network\" by Krishnan et al. The notebook guides you through the process of setting up the environment, running the simulation, loading the output data, and performing various analyses to understand the transitions between different sleep stages."
   ]
  },
  {
   "cell_type": "markdown",
   "metadata": {},
   "source": [
    "## Model Source Code\n",
    "\n",
    "Cybershuttle will help you run the simulation code on remote HPC resources. But if you prefer, you can install it locally. The simulation code is implemented in C++ and uses OpenMP for parallelism. You will need a C++ compiler and OpenMP support.\n",
    "\n",
    "### Cloning the Repository\n",
    "\n",
    "Clone the repository to your local machine using the following command:\n",
    "```bash\n",
    "git clone https://github.com/bazhlab-ucsd/sleep-stage-transition.git\n",
    "```\n",
    "\n",
    "### Building the Project\n",
    "\n",
    "Navigate to the project directory and compile the code:\n",
    "```bash\n",
    "cd sleep-stage-transition\n",
    "make network\n",
    "make run\n",
    "```\n",
    "### Running Simulations\n",
    "\n",
    "The simulation parameters can be modified in the `params.txt` file. Adjust this file to set different levels of neuromodulators and other parameters. Run the simulation with:\n",
    "```bash\n",
    "make run\n",
    "```\n"
   ]
  },
  {
   "cell_type": "markdown",
   "metadata": {},
   "source": [
    "\n",
    "## Running the simulation code using Cybershuttle (Recomended)\n",
    "\n",
    "Cybershuttle's Cybertune library simplifies the workflow of running parameter sweep simulations by automating input file transfers, remote simulations, and output retrievals. We will first run an end to end single simulation."
   ]
  },
  {
   "cell_type": "code",
   "execution_count": null,
   "metadata": {},
   "outputs": [],
   "source": [
    "from cybershuttle_tune.sdk import ExecutionContext\n",
    "from cybershuttle_tune.sdk import ApplicationContext\n",
    "from cybershuttle_tune.sdk import TuneConfig\n",
    "from cybershuttle_tune.sdk import DiscreteParam\n",
    "from cybershuttle_tune.sdk import run_grid_search\n",
    "from cybershuttle_tune.sdk import get_sweep_status\n",
    "from cybershuttle_tune.sdk import fetch_outputs\n",
    "from cybershuttle_tune.sdk import authorize\n",
    "from cybershuttle_tune.cli.auth import get_access_token\n",
    "import os\n",
    "import json\n",
    "from pathlib import Path"
   ]
  },
  {
   "cell_type": "code",
   "execution_count": null,
   "metadata": {},
   "outputs": [],
   "source": [
    "# Review Input Parameters\n",
    "! cat inputs/params.txt"
   ]
  },
  {
   "cell_type": "markdown",
   "metadata": {},
   "source": [
    "### Execute a single simulation on Remote HPC Resource"
   ]
  },
  {
   "cell_type": "code",
   "execution_count": null,
   "metadata": {},
   "outputs": [],
   "source": [
    "# Configure input parameters \n",
    "params = [\n",
    "    DiscreteParam('ha_awake', [0.6]),\n",
    "    DiscreteParam('ach_cx_awake', [0.6]),\n",
    "    DiscreteParam('ach_th_awake', [0.6]),\n",
    "]\n",
    "\n",
    "# Run the simulation on the ACCESS-CI, San Diego Supercomputer Centers Expanse Cluster\n",
    "execution_context = ExecutionContext(resource = \"Expanse\", \n",
    "                                     project = \"Default Project\", \n",
    "                                     group_resource_profile = \"Default\", \n",
    "                                     cpu = 1, \n",
    "                                     memory = 1000, \n",
    "                                     queue = \"shared\")\n",
    "\n",
    "input_file_mapping = {\"Network Config File\":\"network.cfg\", \"Param File\": \"params.txt\"}\n",
    "app_context = ApplicationContext(app_name = \"Sleep-Stage-Transition\", input_dir = \"inputs\", input_file_mapping = input_file_mapping)\n",
    "\n",
    "tune_config = TuneConfig(\n",
    "    app_context = app_context,\n",
    "    params = params, \n",
    "    execution_context = execution_context)"
   ]
  },
  {
   "cell_type": "code",
   "execution_count": null,
   "metadata": {},
   "outputs": [],
   "source": [
    "response = run_grid_search(tune_config = tune_config)"
   ]
  },
  {
   "cell_type": "code",
   "execution_count": null,
   "metadata": {},
   "outputs": [],
   "source": [
    "states, indexes = get_sweep_status(response['job_name'], response['working_dir'])\n",
    "states"
   ]
  },
  {
   "cell_type": "code",
   "execution_count": null,
   "metadata": {},
   "outputs": [],
   "source": [
    "output_paths = fetch_outputs(response['job_name'], response['working_dir'])"
   ]
  },
  {
   "cell_type": "code",
   "execution_count": null,
   "metadata": {},
   "outputs": [],
   "source": [
    "output_paths"
   ]
  },
  {
   "cell_type": "markdown",
   "metadata": {},
   "source": [
    "## Loading and Processing Output Data\n",
    "\n",
    "After running the simulation, the output files will be saved in the `out` directory. These files contain the membrane voltage and other relevant data of different neuron types.\n",
    "\n",
    "# For simulations ran through Cybershuttle, the Cybershuttle local agent can transparently fetch these output files"
   ]
  },
  {
   "cell_type": "code",
   "execution_count": null,
   "metadata": {},
   "outputs": [],
   "source": [
    "import numpy as np\n",
    "import matplotlib.pylab as plt"
   ]
  },
  {
   "cell_type": "markdown",
   "metadata": {},
   "source": [
    "### Functions\n",
    "\n",
    "#### Simple Plot Function\n",
    "This function visualizes the simulation output of the thalamocortical network model. It creates image plots of the membrane potentials of cortical, thalamic, and reticular neurons, as well as time-series plots of specific neurons' membrane potentials."
   ]
  },
  {
   "cell_type": "code",
   "execution_count": null,
   "metadata": {},
   "outputs": [],
   "source": [
    "def gen_cx_tc_re_imageplot(spath):\n",
    "    cx = np.loadtxt(spath + 'time_cx')\n",
    "    tc = np.loadtxt(spath + 'time_tc')\n",
    "    re = np.loadtxt(spath + 'time_re')\n",
    "\n",
    "    plt.figure(figsize=(10,5))\n",
    "    plt.subplot(3,2,1)\n",
    "    plt.imshow(cx[:,1:-1].T, aspect='auto',vmin=-80,vmax=-50)\n",
    "\n",
    "    plt.subplot(3,2,3)\n",
    "    plt.imshow(tc[:,1:-1].T, aspect='auto',vmin=-80,vmax=-50)\n",
    "\n",
    "    plt.subplot(3,2,5)\n",
    "    plt.imshow(re[:,1:-1].T, aspect='auto',vmin=-80,vmax=-50)\n",
    "\n",
    "    plt.subplot(3,2,2)\n",
    "    plt.plot(cx[:,200])\n",
    "\n",
    "    plt.subplot(3,2,4)\n",
    "    plt.plot(tc[:,50])\n",
    "\n",
    "    plt.subplot(3,2,6)\n",
    "    plt.plot(re[:,50])\n",
    "    return cx,tc,re"
   ]
  },
  {
   "cell_type": "markdown",
   "metadata": {},
   "source": [
    "### Compute Mean as Local Field Potential (LFP)\n",
    "This function provides a way to compute and visualize the LFP from the membrane potentials of cortical neurons, giving insights into the overall electrical activity in the simulated brain region."
   ]
  },
  {
   "cell_type": "code",
   "execution_count": null,
   "metadata": {},
   "outputs": [],
   "source": [
    "def compute_mean_as_lfp(time_cx):\n",
    "  # Compute mean from index 1 to -1, assuming 0 is cell number and last is predefined\n",
    "  return np.mean(time_cx[:,1:-1])"
   ]
  },
  {
   "cell_type": "markdown",
   "metadata": {},
   "source": [
    "#### Compute LFP\n",
    "The function fftc performs a Fast Fourier Transform (FFT) on the LFP data to analyze the frequency components of the signal. This function provides a method to analyze the frequency components of the LFP signal, which can reveal insights into the underlying neuronal dynamics and oscillatory activity."
   ]
  },
  {
   "cell_type": "code",
   "execution_count": null,
   "metadata": {},
   "outputs": [],
   "source": [
    "import scipy\n",
    "\n",
    "from scipy import signal\n",
    "\n",
    "def fftc(data, fs, pad, h_freq ):\n",
    "    # Usage : fft_corrected(data, fs, win, pad )\n",
    "    #         data  --- np array\n",
    "    #         fs  --- sampling rate\n",
    "    #         pad  --- padding\n",
    "    # need to load numpy as np\n",
    "\n",
    "    # if win.shape[0]>0:\n",
    "    #     data=np.multiply(data,win)\n",
    "\n",
    "    pad = data.shape[0]\n",
    "    fft_out=np.fft.fft(data,n=pad)\n",
    "\n",
    "    # frequency=np.multiply(np.arange(0,pad/2),fs/pad) \n",
    "\n",
    "    frequency=np.linspace(0.0, 1.0/(2.0/fs), pad/2)\n",
    "    # frequency=np.fft.fftfreq(data.shape[-1])\n",
    "\n",
    "    power=np.absolute(fft_out)\n",
    "    phase=np.angle(fft_out);\n",
    "\n",
    "    h_freq_bin = np.where(frequency<h_freq)    \n",
    "    power=power[h_freq_bin]/np.shape(data)[0];\n",
    "    phase=phase[h_freq_bin];\n",
    "    frequency=frequency[h_freq_bin];\n",
    "\n",
    "    return power, phase, frequency"
   ]
  },
  {
   "cell_type": "markdown",
   "metadata": {},
   "source": [
    "### Morlet Spectrogram\n",
    "\n",
    "This function performs time-frequency analysis on a signal using the Morlet wavelet. The implementation is based on the textbook 'The Illustrated Wavelet Transform Handbook' (Paul Addison), pp. 33ff., and the paper 'Comparison of the Hilbert transform and wavelet methods...' (Le Van Quyen, 2001)."
   ]
  },
  {
   "cell_type": "code",
   "execution_count": null,
   "metadata": {},
   "outputs": [],
   "source": [
    "def morlet_wav(x, srate, sigma, flo, fhi, deltaf):\n",
    "    N_orig = len(x)\n",
    "    #zero-pad x so that the number of entries is a power of 2, so that the fft will be computationally efficient\n",
    "    N=int( 2**(  np.ceil(  np.log(N_orig) / np.log(2)  )  )  )\n",
    "    x=np.concatenate([x,np.zeros(N-len(x))])\n",
    "    Xk=np.fft.fft(x)\n",
    "\n",
    "    #figure out number of total frequency values at which you will be sampling\n",
    "    #for the time-frequency analysis, and allocate space in 'Transform' (first\n",
    "    #row of 'Transform' contains the power as a function of time for the lowest frequency\n",
    "    freqvals=np.arange(flo,fhi+deltaf,deltaf)\n",
    "    num_freqvals=len(freqvals)\n",
    "    Transform=np.zeros((num_freqvals,N), dtype=complex)\n",
    "\n",
    "    freq_samples=srate*np.arange(-N/2,N/2)/N #construct array of frequency values at which you sample the Fourier Transform of the wavelet function (Addison Eq. 2.38); don't need '-1' (as in Matlab code) bc. of how arange works; also, can assume N is divisible by 2 because of above\n",
    "\n",
    "    for i_f, freq in enumerate(freqvals):\n",
    "        #construct fourier transform of the Morlet wavelet in such a form that we\n",
    "        #can use Eq. 2.35 (p. 33, Addison) along with iFFT to determine Transform\n",
    "        #for specific frequency band. Note that my normalization is not the\n",
    "        #same as in Addison's textbook.\n",
    "        W = np.sqrt(2*np.pi)*sigma*np.exp(-2*np.pi**2*sigma**2*(freq_samples-freq)**2)\n",
    "        Transform[i_f:i_f+1, :] = np.fft.ifft(Xk * np.fft.ifftshift(W))\n",
    "\n",
    "    #throw away the part of Transform that corresponded to zero-padded portion of 'x'\n",
    "    Transform=Transform[:,1:N_orig+1]\n",
    "    #compute phases and modulus \n",
    "    Phases = np.arctan2(np.imag(Transform), np.real(Transform))\n",
    "    Modulus = np.abs(Transform)\n",
    "\n",
    "    return Modulus, Phases, Transform"
   ]
  },
  {
   "cell_type": "markdown",
   "metadata": {},
   "source": [
    "### Plot results from one simulation"
   ]
  },
  {
   "cell_type": "code",
   "execution_count": null,
   "metadata": {},
   "outputs": [],
   "source": [
    "print(output_paths[0])\n",
    "for outputfile in output_paths:\n",
    "    out_tar_dir = outputfile + \"/\" + response['job_name'] + '_' + outputfile.split('/')[-2]\n",
    "    out_tar_file_path = out_tar_dir + '/' + 'output.tar.gz'\n",
    "    print(out_tar_dir)\n",
    "    print(out_tar_file_path)\n",
    "\n",
    "import tarfile\n",
    "out_tar_file = tarfile.open(out_tar_file_path) \n",
    "out_tar_file.extractall(out_tar_dir) \n",
    "out_tar_file.close()\n",
    "output_dir = out_tar_dir + '/' + 'output/'\n",
    "\n",
    "cx,tc,re = gen_cx_tc_re_imageplot(output_dir)"
   ]
  },
  {
   "cell_type": "markdown",
   "metadata": {},
   "source": [
    "## FFT spectrogram"
   ]
  },
  {
   "cell_type": "markdown",
   "metadata": {},
   "source": [
    "seltime=np.arange(10000,15000)\n",
    "\n",
    "plt.subplot(2, 1, 1)\n",
    "avg=signal.detrend(np.mean(cx[seltime,1:-1],axis=1))\n",
    "plt.plot(avg)\n",
    "\n",
    "plt.subplot(2, 1, 2)\n",
    "power, phase, frequency = fftc(avg, 1000, 4, 200 )\n",
    "plt.plot(frequency,(power))\n",
    "plt.xlim(0, 20)\n",
    "plt.ylim(0, 2000)"
   ]
  },
  {
   "cell_type": "markdown",
   "metadata": {},
   "source": [
    "## Wavelet Spectrogram\n",
    "\n",
    "Perform detailed time-frequency analysis of a signal, revealing the dynamics of its frequency components over time."
   ]
  },
  {
   "cell_type": "markdown",
   "metadata": {},
   "source": [
    "flo = 1\n",
    "fhi = 100\n",
    "deltaf = 0.1\n",
    "freqvals=np.arange(flo,fhi+deltaf,deltaf)\n",
    "\n",
    "dt=0.025 #ms\n",
    "sigma = 1.0 #width of gaussian window (in seconds) for frequency-time analysis\n",
    "cut_start=1000; #number of milliseconds to cut out of beginning\n",
    "cut_end=1000; #number of milliseconds to cut out of end\n",
    "dsample=100; #downsample by factor 'dsample'\n",
    "\n",
    "temp= avg#np.loadtxt('lfp_nhost=10.txt')\n",
    "data=temp[0:len(temp):dsample] #downsample data\n",
    "time=dsample*dt*np.arange(0,len(data))\n",
    "srate = 1000/(dsample*dt) #Hz\n",
    "\n",
    "Modulus, Phases, Transform = morlet_wav(data,srate,sigma,flo,fhi,deltaf)\n",
    "\n",
    "plt.pcolormesh(time[round(cut_start/(dsample*dt)):len(time)-round(cut_end/(dsample*dt))], freqvals, Modulus[:,round(cut_start/(dsample*dt)):len(time)-round(cut_end/(dsample*dt))], rasterized='True', cmap='jet')\n",
    "plt.xlabel('Time (ms)')\n",
    "plt.ylabel('Frequency (Hz)')\n",
    "plt.colorbar()\n",
    "#plt.clim((0,250))\n",
    "plt.xlim([10000, 360000])"
   ]
  },
  {
   "cell_type": "markdown",
   "metadata": {},
   "source": [
    "# Scale up Simulations\n",
    "\n",
    "## Paramaterizing histamine (HA) and acetylcholine (ACh)\n",
    "\n",
    "We will run simulations on level of histamine (HA) during the awake state in the thalamocortical network model, level of acetylcholine (ACh) in the cortical neurons (cx) and thalamic neurons (th) during the awake state."
   ]
  },
  {
   "cell_type": "code",
   "execution_count": null,
   "metadata": {},
   "outputs": [],
   "source": [
    "# Launch 10 simulations with paramaterization of histamine from 0.3 to 1.2\n",
    "\n",
    "params = [\n",
    "    DiscreteParam('ha_awake', [0.3, 0.4, 0.5, 0.6, 0.7, 0.8, 0.9, 1.0, 1.1, 1.2]),\n",
    "    DiscreteParam('ach_cx_awake', [0.6]),\n",
    "    DiscreteParam('ach_th_awake', [0.6]),\n",
    "]\n",
    "\n",
    "# Run the simulation on the ACCESS-CI, San Diego Supercomputer Centers Expanse Cluster\n",
    "execution_context = ExecutionContext(resource = \"Expanse\", \n",
    "                                     project = \"Default Project\", \n",
    "                                     group_resource_profile = \"Default\", \n",
    "                                     cpu = 1, \n",
    "                                     memory = 1000, \n",
    "                                     queue = \"shared\")\n",
    "\n",
    "input_file_mapping = {\"Network Config File\":\"network.cfg\", \"Param File\": \"params.txt\"}\n",
    "app_context = ApplicationContext(app_name = \"Sleep-Stage-Transition\", input_dir = \"inputs\", input_file_mapping = input_file_mapping)\n",
    "\n",
    "tune_config = TuneConfig(\n",
    "    app_context = app_context,\n",
    "    params = params, \n",
    "    execution_context = execution_context)"
   ]
  },
  {
   "cell_type": "code",
   "execution_count": null,
   "metadata": {},
   "outputs": [],
   "source": [
    "# Launch the paramater sweep runs on remote HPC Resourcs\n",
    "response = run_grid_search(tune_config = tune_config)"
   ]
  },
  {
   "cell_type": "code",
   "execution_count": null,
   "metadata": {},
   "outputs": [],
   "source": [
    "# Query Cybeshuttle Server to fetch the job status. Wait until all statuses are complete\n",
    "states, indexes = get_sweep_status(response['job_name'], response['working_dir'])\n",
    "states"
   ]
  },
  {
   "cell_type": "code",
   "execution_count": null,
   "metadata": {},
   "outputs": [],
   "source": [
    "remote_output_paths = get_remote_data_dirs(response['job_name'], response['working_dir'])"
   ]
  },
  {
   "cell_type": "code",
   "execution_count": null,
   "metadata": {},
   "outputs": [],
   "source": [
    "remote_output_paths"
   ]
  },
  {
   "cell_type": "markdown",
   "metadata": {},
   "source": [
    "### Remote Cell Execution"
   ]
  },
  {
   "cell_type": "markdown",
   "metadata": {},
   "source": [
    "#### Load remote cell execution plugin"
   ]
  },
  {
   "cell_type": "code",
   "execution_count": null,
   "metadata": {},
   "outputs": [],
   "source": [
    "import sys\n",
    "sys.path.append('/')\n",
    "import airavata_magics\n",
    "airavata_magics.load_ipython_extension(get_ipython())"
   ]
  },
  {
   "cell_type": "markdown",
   "metadata": {},
   "source": [
    "#### Initialize the remote execution agent. Provide the computation requirements and target cluster name"
   ]
  },
  {
   "cell_type": "code",
   "execution_count": null,
   "metadata": {},
   "outputs": [],
   "source": [
    "%init_remote cluster=expanse cpu=2 memory=2024 queue=shared walltime=60"
   ]
  },
  {
   "cell_type": "markdown",
   "metadata": {},
   "source": [
    "#### Wait for agent to come online"
   ]
  },
  {
   "cell_type": "code",
   "execution_count": null,
   "metadata": {},
   "outputs": [],
   "source": [
    "%status_remote"
   ]
  },
  {
   "cell_type": "code",
   "execution_count": null,
   "metadata": {},
   "outputs": [],
   "source": [
    "%status_remote"
   ]
  },
  {
   "cell_type": "markdown",
   "metadata": {},
   "source": [
    "#### Run basic computations"
   ]
  },
  {
   "cell_type": "code",
   "execution_count": null,
   "metadata": {},
   "outputs": [],
   "source": [
    "%%run_remote\n",
    "# Your code here\n",
    "a = 10\n",
    "print(a)"
   ]
  },
  {
   "cell_type": "markdown",
   "metadata": {},
   "source": [
    "#### Run more complex analytics"
   ]
  },
  {
   "cell_type": "code",
   "execution_count": null,
   "metadata": {},
   "outputs": [],
   "source": [
    "%%run_remote\n",
    "import matplotlib.pyplot as plt\n",
    "\n",
    "# Sample data\n",
    "x = [1, 2, 3, 4, 5]\n",
    "y = [2, 3, 5, 7, 11]\n",
    "\n",
    "# Create the plot\n",
    "plt.plot(x, y)\n",
    "\n",
    "# Add a title and labels\n",
    "plt.title('Simple Line Plot')\n",
    "plt.xlabel('X Axis')\n",
    "plt.ylabel('Y Axis')\n",
    "\n",
    "# Show the plot\n",
    "plt.show()"
   ]
  },
  {
   "cell_type": "markdown",
   "metadata": {},
   "source": [
    "#### Run command line "
   ]
  },
  {
   "cell_type": "code",
   "execution_count": null,
   "metadata": {},
   "outputs": [],
   "source": [
    "%%run_remote\n",
    "!ls /home/"
   ]
  },
  {
   "cell_type": "markdown",
   "metadata": {},
   "source": [
    "#### Terminate the agent once the computations are completed"
   ]
  },
  {
   "cell_type": "code",
   "execution_count": null,
   "metadata": {},
   "outputs": [],
   "source": [
    "%terminate_remote"
   ]
  }
 ],
 "metadata": {
  "kernelspec": {
   "display_name": "Python 3 (ipykernel)",
   "language": "python",
   "name": "python3"
  },
  "language_info": {
   "codemirror_mode": {
    "name": "ipython",
    "version": 3
   },
   "file_extension": ".py",
   "mimetype": "text/x-python",
   "name": "python",
   "nbconvert_exporter": "python",
   "pygments_lexer": "ipython3",
   "version": "3.12.4"
  }
 },
 "nbformat": 4,
 "nbformat_minor": 4
}
